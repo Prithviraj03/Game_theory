{
 "cells": [
  {
   "cell_type": "markdown",
   "id": "e9b63085",
   "metadata": {},
   "source": [
    "# CS 5408 - Game Theory for Computing\n",
    "## HW 2b: Problem 3b -- Iterative Elimination of Dominated Strategies\n",
    "\n",
    "COPYRIGHTS: © Sid Nadendla, 2022\n"
   ]
  },
  {
   "cell_type": "code",
   "execution_count": 1,
   "id": "6d963bdd",
   "metadata": {},
   "outputs": [
    {
     "name": "stdout",
     "output_type": "stream",
     "text": [
      "Requirement already satisfied: numpy in /Users/aishwaryaraghavan/Downloads/gtc-lab/gtc_lab_env/lib/python3.10/site-packages (1.23.3)\n",
      "\u001b[33mWARNING: You are using pip version 21.2.4; however, version 22.2.2 is available.\n",
      "You should consider upgrading via the '/Users/aishwaryaraghavan/Downloads/gtc-lab/gtc_lab_env/bin/python3 -m pip install --upgrade pip' command.\u001b[0m\n"
     ]
    }
   ],
   "source": [
    "!pip install numpy"
   ]
  },
  {
   "cell_type": "code",
   "execution_count": 2,
   "id": "fba3833a",
   "metadata": {},
   "outputs": [],
   "source": [
    "import numpy as np"
   ]
  },
  {
   "cell_type": "code",
   "execution_count": 3,
   "id": "e54ee06e",
   "metadata": {},
   "outputs": [],
   "source": [
    "from gtclab.models.normalgame import NormalGame\n",
    "from gtclab.solvers.ieds import IEDS"
   ]
  },
  {
   "cell_type": "code",
   "execution_count": 6,
   "id": "bb82a543",
   "metadata": {},
   "outputs": [
    {
     "name": "stdout",
     "output_type": "stream",
     "text": [
      "\n",
      "            NormalGame : {1: Player(player_label : 1,choice_set : range(1, 3), utility_matrix : [[1, -1], [-1, 1]], player_type :  normal), 2: Player(player_label : 2,choice_set : range(1, 3), utility_matrix : [[-1, 1], [1, -1]], player_type :  normal)}\n",
      "\n",
      "            num_players: 2\n",
      "\n",
      "            num_choices: {1: 2, 2: 2}\n",
      "        \n",
      "        \n",
      "\n"
     ]
    }
   ],
   "source": [
    "num_players = 2\n",
    "num_choices = {1: 2, 2: 2}\n",
    "utility_matrices = {\n",
    "    1: [[1,-1],\n",
    "        [-1,1]],\n",
    "    2: [[-1,1],\n",
    "        [1,-1]]\n",
    "}\n",
    "\n",
    "#TODO - Implement the appropriate game given in the problem statement.\n",
    "game = NormalGame(num_players, num_choices, utility_matrices)\n",
    "\n",
    "print(game)"
   ]
  },
  {
   "cell_type": "code",
   "execution_count": 25,
   "id": "fc2841eb",
   "metadata": {
    "scrolled": true
   },
   "outputs": [
    {
     "name": "stdout",
     "output_type": "stream",
     "text": [
      "Players : 2        \n",
      "Choice Space: [['r', 'p', 's'], ['R', 'P', 'S']]        \n",
      "Utility matrix of Player 0: 0 -1 1; 1 0 -1; -1 1 0        \n",
      "\n"
     ]
    }
   ],
   "source": [
    "print(game)"
   ]
  },
  {
   "cell_type": "code",
   "execution_count": 39,
   "id": "f6f6a6c5",
   "metadata": {},
   "outputs": [
    {
     "name": "stdout",
     "output_type": "stream",
     "text": [
      "Enter choices at Player 0: r p s\n",
      "Enter choices at Player 1: R P S\n",
      "Enter utility matrix at Player 0: 0 -1 1; 1 0 -1; -1 1 0\n",
      "MSNE : [[0.5  0.2  0.3 ]\n",
      " [0.1  0.45 0.45]]        \n",
      "\n"
     ]
    }
   ],
   "source": [
    "reduced_game = IEDS(game)\n",
    "print(reduced_game)"
   ]
  }
 ],
 "metadata": {
  "kernelspec": {
   "display_name": "Python 3 (ipykernel)",
   "language": "python",
   "name": "python3"
  },
  "language_info": {
   "codemirror_mode": {
    "name": "ipython",
    "version": 3
   },
   "file_extension": ".py",
   "mimetype": "text/x-python",
   "name": "python",
   "nbconvert_exporter": "python",
   "pygments_lexer": "ipython3",
   "version": "3.10.2"
  }
 },
 "nbformat": 4,
 "nbformat_minor": 5
}
