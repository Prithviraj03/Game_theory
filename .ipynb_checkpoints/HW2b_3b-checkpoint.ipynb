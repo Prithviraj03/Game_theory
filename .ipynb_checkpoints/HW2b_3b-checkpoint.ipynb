{
 "cells": [
  {
   "cell_type": "markdown",
   "metadata": {},
   "source": [
    "# CS 5408 - Game Theory for Computing\n",
    "## HW 2b: Problem 3b -- Iterative Elimination of Dominated Strategies\n",
    "\n",
    "COPYRIGHTS: © Sid Nadendla, 2022\n"
   ]
  },
  {
   "cell_type": "code",
   "execution_count": 4,
   "metadata": {},
   "outputs": [
    {
     "name": "stdout",
     "output_type": "stream",
     "text": [
      "Requirement already satisfied: numpy in ./GTC_jupyter_venv/lib/python3.7/site-packages (1.21.2)\r\n"
     ]
    }
   ],
   "source": [
    "!pip install numpy"
   ]
  },
  {
   "cell_type": "code",
   "execution_count": 22,
   "metadata": {},
   "outputs": [],
   "source": [
    "import numpy as np"
   ]
  },
  {
   "cell_type": "code",
   "execution_count": null,
   "metadata": {},
   "outputs": [],
   "source": [
    "from gtclab.models.normalgame import NormalGame\n",
    "from gtclab.solvers.ieds import IEDS"
   ]
  },
  {
   "cell_type": "code",
   "execution_count": 24,
   "metadata": {},
   "outputs": [
    {
     "name": "stdout",
     "output_type": "stream",
     "text": [
      "Enter choices at Player 0: r p s\n",
      "Enter choices at Player 1: R P S\n",
      "Enter utility matrix at Player 0: 0 -1 1; 1 0 -1; -1 1 0\n"
     ]
    }
   ],
   "source": [
    "N = 2\n",
    "C = ['']*2\n",
    "U = ['']*2\n",
    "\n",
    "game = NormalGame(N, C, U)"
   ]
  },
  {
   "cell_type": "code",
   "execution_count": 25,
   "metadata": {
    "scrolled": true
   },
   "outputs": [
    {
     "name": "stdout",
     "output_type": "stream",
     "text": [
      "Players : 2        \n",
      "Choice Space: [['r', 'p', 's'], ['R', 'P', 'S']]        \n",
      "Utility matrix of Player 0: 0 -1 1; 1 0 -1; -1 1 0        \n",
      "\n"
     ]
    }
   ],
   "source": [
    "print(game)"
   ]
  },
  {
   "cell_type": "code",
   "execution_count": 39,
   "metadata": {},
   "outputs": [
    {
     "name": "stdout",
     "output_type": "stream",
     "text": [
      "Enter choices at Player 0: r p s\n",
      "Enter choices at Player 1: R P S\n",
      "Enter utility matrix at Player 0: 0 -1 1; 1 0 -1; -1 1 0\n",
      "MSNE : [[0.5  0.2  0.3 ]\n",
      " [0.1  0.45 0.45]]        \n",
      "\n"
     ]
    }
   ],
   "source": [
    "reduced_game = ieds(game)\n",
    "print(reduced_game)"
   ]
  }
 ],
 "metadata": {
  "kernelspec": {
   "display_name": "Python 3",
   "language": "python",
   "name": "python3"
  },
  "language_info": {
   "codemirror_mode": {
    "name": "ipython",
    "version": 3
   },
   "file_extension": ".py",
   "mimetype": "text/x-python",
   "name": "python",
   "nbconvert_exporter": "python",
   "pygments_lexer": "ipython3",
   "version": "3.7.0"
  }
 },
 "nbformat": 4,
 "nbformat_minor": 5
}
