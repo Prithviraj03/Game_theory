{
 "cells": [
  {
   "cell_type": "markdown",
   "metadata": {},
   "source": [
    "# CS 5408 - Game Theory for Computing\n",
    "## HW 2b: Problem 3a -- Extensive-Form Game Representation\n",
    "\n",
    "COPYRIGHTS: © Sid Nadendla, 2022"
   ]
  },
  {
   "cell_type": "code",
   "execution_count": 1,
   "metadata": {},
   "outputs": [
    {
     "name": "stdout",
     "output_type": "stream",
     "text": [
      "Requirement already satisfied: numpy in ./gtc_lab_env/lib/python3.10/site-packages (1.23.3)\n",
      "\u001b[33mWARNING: You are using pip version 21.2.4; however, version 22.2.2 is available.\n",
      "You should consider upgrading via the '/Users/aishwaryaraghavan/Downloads/gtc-lab/gtc_lab_env/bin/python3 -m pip install --upgrade pip' command.\u001b[0m\n",
      "Requirement already satisfied: ipdb in ./gtc_lab_env/lib/python3.10/site-packages (0.13.9)\n",
      "Requirement already satisfied: setuptools in ./gtc_lab_env/lib/python3.10/site-packages (from ipdb) (58.1.0)\n",
      "Requirement already satisfied: ipython>=7.17.0 in ./gtc_lab_env/lib/python3.10/site-packages (from ipdb) (8.5.0)\n",
      "Requirement already satisfied: toml>=0.10.2 in ./gtc_lab_env/lib/python3.10/site-packages (from ipdb) (0.10.2)\n",
      "Requirement already satisfied: decorator in ./gtc_lab_env/lib/python3.10/site-packages (from ipdb) (5.1.1)\n",
      "Requirement already satisfied: stack-data in ./gtc_lab_env/lib/python3.10/site-packages (from ipython>=7.17.0->ipdb) (0.5.1)\n",
      "Requirement already satisfied: jedi>=0.16 in ./gtc_lab_env/lib/python3.10/site-packages (from ipython>=7.17.0->ipdb) (0.18.1)\n",
      "Requirement already satisfied: appnope in ./gtc_lab_env/lib/python3.10/site-packages (from ipython>=7.17.0->ipdb) (0.1.3)\n",
      "Requirement already satisfied: pexpect>4.3 in ./gtc_lab_env/lib/python3.10/site-packages (from ipython>=7.17.0->ipdb) (4.8.0)\n",
      "Requirement already satisfied: matplotlib-inline in ./gtc_lab_env/lib/python3.10/site-packages (from ipython>=7.17.0->ipdb) (0.1.6)\n",
      "Requirement already satisfied: backcall in ./gtc_lab_env/lib/python3.10/site-packages (from ipython>=7.17.0->ipdb) (0.2.0)\n",
      "Requirement already satisfied: prompt-toolkit<3.1.0,>3.0.1 in ./gtc_lab_env/lib/python3.10/site-packages (from ipython>=7.17.0->ipdb) (3.0.31)\n",
      "Requirement already satisfied: traitlets>=5 in ./gtc_lab_env/lib/python3.10/site-packages (from ipython>=7.17.0->ipdb) (5.4.0)\n",
      "Requirement already satisfied: pickleshare in ./gtc_lab_env/lib/python3.10/site-packages (from ipython>=7.17.0->ipdb) (0.7.5)\n",
      "Requirement already satisfied: pygments>=2.4.0 in ./gtc_lab_env/lib/python3.10/site-packages (from ipython>=7.17.0->ipdb) (2.13.0)\n",
      "Requirement already satisfied: parso<0.9.0,>=0.8.0 in ./gtc_lab_env/lib/python3.10/site-packages (from jedi>=0.16->ipython>=7.17.0->ipdb) (0.8.3)\n",
      "Requirement already satisfied: ptyprocess>=0.5 in ./gtc_lab_env/lib/python3.10/site-packages (from pexpect>4.3->ipython>=7.17.0->ipdb) (0.7.0)\n",
      "Requirement already satisfied: wcwidth in ./gtc_lab_env/lib/python3.10/site-packages (from prompt-toolkit<3.1.0,>3.0.1->ipython>=7.17.0->ipdb) (0.2.5)\n",
      "Requirement already satisfied: executing in ./gtc_lab_env/lib/python3.10/site-packages (from stack-data->ipython>=7.17.0->ipdb) (1.1.0)\n",
      "Requirement already satisfied: pure-eval in ./gtc_lab_env/lib/python3.10/site-packages (from stack-data->ipython>=7.17.0->ipdb) (0.2.2)\n",
      "Requirement already satisfied: asttokens in ./gtc_lab_env/lib/python3.10/site-packages (from stack-data->ipython>=7.17.0->ipdb) (2.0.8)\n",
      "Requirement already satisfied: six in ./gtc_lab_env/lib/python3.10/site-packages (from asttokens->stack-data->ipython>=7.17.0->ipdb) (1.16.0)\n",
      "\u001b[33mWARNING: You are using pip version 21.2.4; however, version 22.2.2 is available.\n",
      "You should consider upgrading via the '/Users/aishwaryaraghavan/Downloads/gtc-lab/gtc_lab_env/bin/python3 -m pip install --upgrade pip' command.\u001b[0m\n"
     ]
    }
   ],
   "source": [
    "!pip install numpy"
   ]
  },
  {
   "cell_type": "code",
   "execution_count": 2,
   "metadata": {},
   "outputs": [],
   "source": [
    "from gtclab.base.tree import Tree\n",
    "from gtclab.base.state import State\n",
    "from gtclab.models.extensivegame import ExtensiveGame"
   ]
  },
  {
   "cell_type": "code",
   "execution_count": 3,
   "metadata": {},
   "outputs": [],
   "source": [
    "import numpy as np"
   ]
  },
  {
   "cell_type": "code",
   "execution_count": 4,
   "metadata": {},
   "outputs": [],
   "source": [
    "tree = Tree()\n",
    "tree.set_num_players(2)\n",
    "\n",
    "state_1 = State(1) # Create a new state with label 1\n",
    "tree.add_state(state_1) # Add this stste to tree\n",
    "tree.set_root(state_1.label) # Set state_1 as a root node\n",
    "\n",
    "# TODO: Complete the rest of the game."
   ]
  },
  {
   "cell_type": "code",
   "execution_count": 5,
   "metadata": {},
   "outputs": [
    {
     "data": {
      "text/plain": [
       "Tree : \n",
       " States: {1: State : 1, 2: State : 2, 3: State : 3, 4: State : 4, 5: State : 5, 6: State : 6, 7: State : 7, 8: State : 8, 9: State : 9}"
      ]
     },
     "execution_count": 5,
     "metadata": {},
     "output_type": "execute_result"
    }
   ],
   "source": [
    "tree"
   ]
  },
  {
   "cell_type": "code",
   "execution_count": 8,
   "metadata": {},
   "outputs": [
    {
     "data": {
      "text/plain": [
       "[Player(player_label : 0,choice_set : None, utility_matrix : None, player_type :  normal),\n",
       " Player(player_label : 1,choice_set : None, utility_matrix : None, player_type :  normal),\n",
       " Player(player_label : 2,choice_set : None, utility_matrix : None, player_type :  normal),\n",
       " Player(player_label : 3,choice_set : None, utility_matrix : None, player_type :  normal)]"
      ]
     },
     "execution_count": 8,
     "metadata": {},
     "output_type": "execute_result"
    }
   ],
   "source": [
    "tree.players"
   ]
  },
  {
   "cell_type": "code",
   "execution_count": 9,
   "metadata": {},
   "outputs": [],
   "source": [
    "#assign players\n",
    "tree.add_player_to_state(1, state_1)"
   ]
  },
  {
   "cell_type": "code",
   "execution_count": 10,
   "metadata": {},
   "outputs": [],
   "source": [
    "#set leaf state's utilities\n"
   ]
  },
  {
   "cell_type": "code",
   "execution_count": 11,
   "metadata": {},
   "outputs": [],
   "source": [
    "#FIX\n",
    "game = ExtensiveGame(tree)"
   ]
  },
  {
   "cell_type": "code",
   "execution_count": 12,
   "metadata": {},
   "outputs": [
    {
     "name": "stdout",
     "output_type": "stream",
     "text": [
      "Extensive Game :  Tree : \n",
      " States: {1: State : 1\n",
      "\tPlayer: Player(player_label : 1,choice_set : None, utility_matrix : None, player_type :  normal), 2: State : 2\n",
      "\tPlayer: Player(player_label : 2,choice_set : None, utility_matrix : None, player_type :  normal), 3: State : 3\n",
      "\tPlayer: Player(player_label : 2,choice_set : None, utility_matrix : None, player_type :  normal), 4: State : 4\n",
      "\tPlayer: Player(player_label : 3,choice_set : None, utility_matrix : None, player_type :  normal), 5: State : 5\n",
      "\tPlayer: Player(player_label : 3,choice_set : None, utility_matrix : None, player_type :  normal), 6: State : 6\n",
      "\tPlayer: Player(player_label : 3,choice_set : None, utility_matrix : None, player_type :  normal), 7: State : 7\n",
      "\tPlayer: Player(player_label : 1,choice_set : None, utility_matrix : None, player_type :  normal), 8: State : 8\n",
      "\tPlayer: Player(player_label : 3,choice_set : None, utility_matrix : None, player_type :  normal), 9: State : 9\n",
      "\tPlayer: Player(player_label : 3,choice_set : None, utility_matrix : None, player_type :  normal)}\n",
      "\n"
     ]
    }
   ],
   "source": [
    "print(game)"
   ]
  },
  {
   "cell_type": "code",
   "execution_count": 13,
   "metadata": {},
   "outputs": [
    {
     "name": "stdout",
     "output_type": "stream",
     "text": [
      "\n",
      "\n",
      "Testing tree properties\n",
      "===========================\n",
      "\n",
      "get_root\n",
      "Root of tree : 1\n",
      "\n",
      "is_parent\n",
      "Is State 1 parent of State 2 ? True\n",
      "Is State 1 parent of State 5 ? False\n",
      "\n",
      "is_leaf\n",
      "Is State 1 a leaf node ? False\n",
      "Is State 8 a leaf node? True\n",
      "\n",
      "get_children\n",
      "State 1's children are [State : 2\n",
      "\tPlayer: Player(player_label : 2,choice_set : None, utility_matrix : None, player_type :  normal), State : 3\n",
      "\tPlayer: Player(player_label : 2,choice_set : None, utility_matrix : None, player_type :  normal)]\n",
      "State 8's children are []\n",
      "\n",
      "get_utilities\n",
      "State 1's utilities are {}\n",
      "State 8's utilities are [2, 10]\n",
      "\n",
      "\n",
      "Testing state properties\n",
      "===========================\n",
      "\n",
      "get_player\n",
      "State 1's player : Player(player_label : 1,choice_set : None, utility_matrix : None, player_type :  normal)\n",
      "State 9's player : Player(player_label : 3,choice_set : None, utility_matrix : None, player_type :  normal)\n"
     ]
    }
   ],
   "source": [
    "#Testing functions _ fix\n",
    "print(\"\\n\\nTesting tree properties\")\n",
    "print(\"===========================\")\n",
    "print(\"\\nget_root\")\n",
    "print(f\"Root of tree : {tree.get_root()}\")\n",
    "print(\"\\nis_parent\")\n",
    "print(f\"Is State 1 parent of State 2 ? {tree.is_parent(1,2)}\")\n",
    "print(f\"Is State 1 parent of State 5 ? {tree.is_parent(1,5)}\")\n",
    "print(\"\\nis_leaf\")\n",
    "print(f\"Is State 1 a leaf node ? {tree.is_leaf(1)}\")\n",
    "print(f\"Is State 8 a leaf node? {tree.is_leaf(8)}\")\n",
    "print(\"\\nget_children\")\n",
    "print(f\"State 1's children are {tree.get_children(1)}\")\n",
    "print(f\"State 8's children are {tree.get_children(8)}\")\n",
    "print(\"\\nget_utilities\")\n",
    "print(f\"State 1's utilities are {tree.get_utilities(1)}\")\n",
    "print(f\"State 8's utilities are {tree.get_utilities(8)}\")\n",
    "\n",
    "print(\"\\n\\nTesting state properties\")\n",
    "print(\"===========================\")\n",
    "print(\"\\nget_player\")\n",
    "print(f\"State 1's player : {tree.states[1].get_player()}\") #Root\n",
    "print(f\"State 9's player : {tree.states[9].get_player()}\") #Leaf"
   ]
  }
 ],
 "metadata": {
  "kernelspec": {
   "display_name": "Python 3",
   "language": "python",
   "name": "python3"
  },
  "language_info": {
   "codemirror_mode": {
    "name": "ipython",
    "version": 3
   },
   "file_extension": ".py",
   "mimetype": "text/x-python",
   "name": "python",
   "nbconvert_exporter": "python",
   "pygments_lexer": "ipython3",
   "version": "3.7.0"
  }
 },
 "nbformat": 4,
 "nbformat_minor": 5
}
