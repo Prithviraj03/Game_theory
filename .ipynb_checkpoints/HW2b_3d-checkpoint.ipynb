{
 "cells": [
  {
   "cell_type": "markdown",
   "metadata": {},
   "source": [
    "## CS 5408 - Game Theory for Computing\n",
    "## HW 2: Problem 2c -- Iterative Elimination of Dominated Strategies\n",
    "\n",
    "COPYRIGHTS: © Sid Nadendla, 2021\n"
   ]
  },
  {
   "cell_type": "markdown",
   "metadata": {},
   "source": [
    "### Iterative Elimination of Dominated Strategies on Normal-Form Games"
   ]
  },
  {
   "cell_type": "code",
   "execution_count": 1,
   "metadata": {},
   "outputs": [
    {
     "name": "stdout",
     "output_type": "stream",
     "text": [
      "Requirement already satisfied: numpy in ./gtc_lab_env/lib/python3.10/site-packages (1.23.3)\n",
      "\u001b[33mWARNING: You are using pip version 21.2.4; however, version 22.2.2 is available.\n",
      "You should consider upgrading via the '/Users/aishwaryaraghavan/Downloads/gtc-lab/gtc_lab_env/bin/python3 -m pip install --upgrade pip' command.\u001b[0m\n"
     ]
    }
   ],
   "source": [
    "!pip install numpy"
   ]
  },
  {
   "cell_type": "code",
   "execution_count": 2,
   "metadata": {},
   "outputs": [],
   "source": [
    "import numpy as np"
   ]
  },
  {
   "cell_type": "code",
   "execution_count": 3,
   "metadata": {},
   "outputs": [],
   "source": [
    "from gtclab.models.normalgame import NormalGame\n",
    "from gtclab.solvers.ieds import IEDS"
   ]
  },
  {
   "cell_type": "code",
   "execution_count": 4,
   "metadata": {},
   "outputs": [],
   "source": [
    "num_players = 2\n",
    "# num_choices = 2\n",
    "utility_matrices= {\n",
    "     1: [[1,-1],\n",
    "        [-1,1]],\n",
    "    2: [[-1,1],\n",
    "        [1,-1]]}"
   ]
  },
  {
   "cell_type": "code",
   "execution_count": 5,
   "metadata": {},
   "outputs": [],
   "source": [
    "colonel_blotto = NormalGame(\n",
    "        num_players=num_players, \n",
    "        num_choices= {1: 2, 2: 2},\n",
    "        utility_matrices= utility_matrices\n",
    "        )"
   ]
  },
  {
   "cell_type": "code",
   "execution_count": 6,
   "metadata": {},
   "outputs": [
    {
     "name": "stdout",
     "output_type": "stream",
     "text": [
      "\n",
      "            NormalGame : {1: Player(player_label : 1,choice_set : range(1, 3), utility_matrix : [[1, -1], [-1, 1]], player_type :  normal), 2: Player(player_label : 2,choice_set : range(1, 3), utility_matrix : [[-1, 1], [1, -1]], player_type :  normal)}\n",
      "\n",
      "            num_players: 2\n",
      "\n",
      "            num_choices: {1: 2, 2: 2}\n",
      "        \n",
      "        \n",
      "\n"
     ]
    }
   ],
   "source": [
    "print(colonel_blotto)"
   ]
  },
  {
   "cell_type": "markdown",
   "metadata": {},
   "source": [
    "### Compute Pure Strategy Nash equilibrium from first principles\n",
    "\n",
    "TODO: Please compute the PSNE of any game "
   ]
  },
  {
   "cell_type": "code",
   "execution_count": 7,
   "metadata": {},
   "outputs": [
    {
     "ename": "TypeError",
     "evalue": "IEDS.calc_reduced_game() takes 1 positional argument but 2 were given",
     "output_type": "error",
     "traceback": [
      "\u001b[0;31m---------------------------------------------------------------------------\u001b[0m",
      "\u001b[0;31mTypeError\u001b[0m                                 Traceback (most recent call last)",
      "Cell \u001b[0;32mIn [7], line 1\u001b[0m\n\u001b[0;32m----> 1\u001b[0m ieds \u001b[38;5;241m=\u001b[39m IEDS(colonel_blotto)\n",
      "File \u001b[0;32m~/Downloads/gtc-lab/gtclab/solvers/ieds.py:15\u001b[0m, in \u001b[0;36mIEDS.__init__\u001b[0;34m(self, normal_game)\u001b[0m\n\u001b[1;32m     13\u001b[0m \u001b[38;5;28;01melse\u001b[39;00m:\n\u001b[1;32m     14\u001b[0m     \u001b[38;5;28;01mraise\u001b[39;00m \u001b[38;5;167;01mRuntimeError\u001b[39;00m(\u001b[38;5;124m\"\u001b[39m\u001b[38;5;124mIEDS can only be computed for Normal games.\u001b[39m\u001b[38;5;124m\"\u001b[39m)\n\u001b[0;32m---> 15\u001b[0m \u001b[38;5;28;43mself\u001b[39;49m\u001b[38;5;241;43m.\u001b[39;49m\u001b[43mcalc_reduced_game\u001b[49m\u001b[43m(\u001b[49m\u001b[43m)\u001b[49m\n",
      "File \u001b[0;32m~/Downloads/gtc-lab/gtclab/solvers/ieds.py:35\u001b[0m, in \u001b[0;36mIEDS.calc_reduced_game\u001b[0;34m(self)\u001b[0m\n\u001b[1;32m     32\u001b[0m     \u001b[38;5;28;01mreturn\u001b[39;00m \u001b[38;5;28mself\u001b[39m\u001b[38;5;241m.\u001b[39mreduced_game\n\u001b[1;32m     33\u001b[0m \u001b[38;5;28;01melse\u001b[39;00m:\n\u001b[1;32m     34\u001b[0m     \u001b[38;5;66;03m# TODO: Continue the recursion until the game can no longer be reduced. Make sure the recursion includes a round-robin iteration of the players.\u001b[39;00m\n\u001b[0;32m---> 35\u001b[0m     \u001b[38;5;28;43mself\u001b[39;49m\u001b[38;5;241;43m.\u001b[39;49m\u001b[43mcalc_reduced_game\u001b[49m\u001b[43m(\u001b[49m\u001b[38;5;28;43mself\u001b[39;49m\u001b[38;5;241;43m.\u001b[39;49m\u001b[43mreduced_game\u001b[49m\u001b[43m)\u001b[49m\n",
      "\u001b[0;31mTypeError\u001b[0m: IEDS.calc_reduced_game() takes 1 positional argument but 2 were given"
     ]
    }
   ],
   "source": [
    "ieds = IEDS(colonel_blotto)"
   ]
  }
 ],
 "metadata": {
  "kernelspec": {
   "display_name": "Python 3",
   "language": "python",
   "name": "python3"
  },
  "language_info": {
   "codemirror_mode": {
    "name": "ipython",
    "version": 3
   },
   "file_extension": ".py",
   "mimetype": "text/x-python",
   "name": "python",
   "nbconvert_exporter": "python",
   "pygments_lexer": "ipython3",
   "version": "3.7.0"
  }
 },
 "nbformat": 4,
 "nbformat_minor": 5
}
