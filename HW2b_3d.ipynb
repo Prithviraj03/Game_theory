{
 "cells": [
  {
   "cell_type": "markdown",
   "id": "9b4ca5a4",
   "metadata": {},
   "source": [
    "## CS 5408 - Game Theory for Computing\n",
    "## HW 2b: Problem 3d -- Rock-Paper-Scissors\n",
    "\n",
    "COPYRIGHTS: © Sid Nadendla, 2022\n"
   ]
  },
  {
   "cell_type": "markdown",
   "id": "af732dd9",
   "metadata": {},
   "source": [
    "### MSME and MSNE_LP"
   ]
  },
  {
   "cell_type": "code",
   "execution_count": 1,
   "id": "05082fd1",
   "metadata": {},
   "outputs": [
    {
     "name": "stdout",
     "output_type": "stream",
     "text": [
      "Requirement already satisfied: numpy in /Users/aishwaryaraghavan/Downloads/gtc-lab/gtc_lab_env/lib/python3.10/site-packages (1.23.3)\n",
      "\u001b[33mWARNING: You are using pip version 21.2.4; however, version 22.2.2 is available.\n",
      "You should consider upgrading via the '/Users/aishwaryaraghavan/Downloads/gtc-lab/gtc_lab_env/bin/python3 -m pip install --upgrade pip' command.\u001b[0m\n"
     ]
    }
   ],
   "source": [
    "!pip install numpy"
   ]
  },
  {
   "cell_type": "code",
   "execution_count": 2,
   "id": "f4c60201",
   "metadata": {},
   "outputs": [],
   "source": [
    "import numpy as np"
   ]
  },
  {
   "cell_type": "code",
   "execution_count": 3,
   "id": "891b7666",
   "metadata": {},
   "outputs": [],
   "source": [
    "from gtclab.models.normalgame import NormalGame\n",
    "from gtclab.solvers.msme import MSME\n",
    "from gtclab.solvers.msne_lp import MSNE_LP"
   ]
  },
  {
   "cell_type": "code",
   "execution_count": 4,
   "id": "79867d48",
   "metadata": {},
   "outputs": [
    {
     "name": "stdout",
     "output_type": "stream",
     "text": [
      "\n",
      "            NormalGame : {1: Player(player_label : 1,choice_set : range(1, 3), utility_matrix : [[1, -1], [-1, 1]], player_type :  normal), 2: Player(player_label : 2,choice_set : range(1, 3), utility_matrix : [[-1, 1], [1, -1]], player_type :  normal)}\n",
      "\n",
      "            num_players: 2\n",
      "\n",
      "            num_choices: {1: 2, 2: 2}\n",
      "        \n",
      "        \n",
      "\n"
     ]
    }
   ],
   "source": [
    "num_players = 2\n",
    "num_choices = {1: 2, 2: 2}\n",
    "utility_matrices = {\n",
    "    1: [[1,-1],\n",
    "        [-1,1]],\n",
    "    2: [[-1,1],\n",
    "        [1,-1]]\n",
    "}\n",
    "\n",
    "#TODO - Implement the appropriate game given in the problem statement.\n",
    "game = NormalGame(num_players, num_choices, utility_matrices)\n",
    "\n",
    "print(game)"
   ]
  },
  {
   "cell_type": "markdown",
   "id": "72f732ed",
   "metadata": {},
   "source": [
    "### Compute MSME and MSNE_LP\n",
    "TODO: Please compute the MSME and MSNE_LP of RPS game"
   ]
  },
  {
   "cell_type": "code",
   "execution_count": 5,
   "id": "f53462e9",
   "metadata": {},
   "outputs": [
    {
     "ename": "RuntimeError",
     "evalue": "MSME can only be computed for Two Player Zero Sum Normal games.",
     "output_type": "error",
     "traceback": [
      "\u001b[0;31m---------------------------------------------------------------------------\u001b[0m",
      "\u001b[0;31mRuntimeError\u001b[0m                              Traceback (most recent call last)",
      "Cell \u001b[0;32mIn [5], line 1\u001b[0m\n\u001b[0;32m----> 1\u001b[0m msme \u001b[38;5;241m=\u001b[39m MSME(game)\n",
      "File \u001b[0;32m~/Downloads/gtc-lab/v3/gtclab/solvers/msme.py:13\u001b[0m, in \u001b[0;36mMSME.__init__\u001b[0;34m(self, normal_game)\u001b[0m\n\u001b[1;32m     11\u001b[0m     \u001b[38;5;28mself\u001b[39m\u001b[38;5;241m.\u001b[39mgame \u001b[38;5;241m=\u001b[39m normal_game\n\u001b[1;32m     12\u001b[0m \u001b[38;5;28;01melse\u001b[39;00m:\n\u001b[0;32m---> 13\u001b[0m     \u001b[38;5;28;01mraise\u001b[39;00m \u001b[38;5;167;01mRuntimeError\u001b[39;00m(\u001b[38;5;124m\"\u001b[39m\u001b[38;5;124mMSME can only be computed for Two Player Zero Sum Normal games.\u001b[39m\u001b[38;5;124m\"\u001b[39m)\n\u001b[1;32m     14\u001b[0m \u001b[38;5;28mself\u001b[39m\u001b[38;5;241m.\u001b[39mmsme \u001b[38;5;241m=\u001b[39m \u001b[38;5;28;01mNone\u001b[39;00m\n\u001b[1;32m     15\u001b[0m \u001b[38;5;28mself\u001b[39m\u001b[38;5;241m.\u001b[39mcalc_msme()\n",
      "\u001b[0;31mRuntimeError\u001b[0m: MSME can only be computed for Two Player Zero Sum Normal games."
     ]
    }
   ],
   "source": [
    "msme = MSME(game)"
   ]
  },
  {
   "cell_type": "code",
   "execution_count": 7,
   "id": "063daf62",
   "metadata": {},
   "outputs": [
    {
     "ename": "RuntimeError",
     "evalue": "MSNE_LP can only be computed for Two Player Zero Sum Normal games.",
     "output_type": "error",
     "traceback": [
      "\u001b[0;31m---------------------------------------------------------------------------\u001b[0m",
      "\u001b[0;31mRuntimeError\u001b[0m                              Traceback (most recent call last)",
      "Cell \u001b[0;32mIn [7], line 1\u001b[0m\n\u001b[0;32m----> 1\u001b[0m msne_lp \u001b[38;5;241m=\u001b[39m MSNE_LP(game)\n",
      "File \u001b[0;32m~/Downloads/gtc-lab/v3/gtclab/solvers/msne_lp.py:12\u001b[0m, in \u001b[0;36mMSNE_LP.__init__\u001b[0;34m(self, normal_game)\u001b[0m\n\u001b[1;32m     10\u001b[0m     \u001b[38;5;28mself\u001b[39m\u001b[38;5;241m.\u001b[39mgame \u001b[38;5;241m=\u001b[39m normal_game\n\u001b[1;32m     11\u001b[0m \u001b[38;5;28;01melse\u001b[39;00m:\n\u001b[0;32m---> 12\u001b[0m     \u001b[38;5;28;01mraise\u001b[39;00m \u001b[38;5;167;01mRuntimeError\u001b[39;00m(\u001b[38;5;124m\"\u001b[39m\u001b[38;5;124mMSNE_LP can only be computed for Two Player Zero Sum Normal games.\u001b[39m\u001b[38;5;124m\"\u001b[39m)\n\u001b[1;32m     13\u001b[0m \u001b[38;5;28mself\u001b[39m\u001b[38;5;241m.\u001b[39mmsne_lp \u001b[38;5;241m=\u001b[39m \u001b[38;5;28;01mNone\u001b[39;00m\n\u001b[1;32m     14\u001b[0m \u001b[38;5;28mself\u001b[39m\u001b[38;5;241m.\u001b[39mcalc_msne_lp()\n",
      "\u001b[0;31mRuntimeError\u001b[0m: MSNE_LP can only be computed for Two Player Zero Sum Normal games."
     ]
    }
   ],
   "source": [
    "msne_lp = MSNE_LP(game)"
   ]
  },
  {
   "cell_type": "code",
   "execution_count": null,
   "id": "36e139d9",
   "metadata": {},
   "outputs": [],
   "source": []
  }
 ],
 "metadata": {
  "kernelspec": {
   "display_name": "Python 3 (ipykernel)",
   "language": "python",
   "name": "python3"
  },
  "language_info": {
   "codemirror_mode": {
    "name": "ipython",
    "version": 3
   },
   "file_extension": ".py",
   "mimetype": "text/x-python",
   "name": "python",
   "nbconvert_exporter": "python",
   "pygments_lexer": "ipython3",
   "version": "3.10.2"
  }
 },
 "nbformat": 4,
 "nbformat_minor": 5
}
